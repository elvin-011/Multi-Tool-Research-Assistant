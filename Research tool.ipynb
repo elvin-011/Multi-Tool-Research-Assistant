{
 "cells": [
  {
   "cell_type": "code",
   "execution_count": 1,
   "id": "c2601271",
   "metadata": {},
   "outputs": [],
   "source": [
    "import os"
   ]
  },
  {
   "cell_type": "code",
   "execution_count": 4,
   "id": "9f71d0ae",
   "metadata": {},
   "outputs": [],
   "source": [
    "import streamlit as st"
   ]
  },
  {
   "cell_type": "code",
   "execution_count": 5,
   "id": "3c05a51d",
   "metadata": {},
   "outputs": [
    {
     "name": "stderr",
     "output_type": "stream",
     "text": [
      "2025-07-03 15:41:42.777 WARNING streamlit.runtime.scriptrunner_utils.script_run_context: Thread 'MainThread': missing ScriptRunContext! This warning can be ignored when running in bare mode.\n",
      "2025-07-03 15:41:42.778 WARNING streamlit.runtime.scriptrunner_utils.script_run_context: Thread 'MainThread': missing ScriptRunContext! This warning can be ignored when running in bare mode.\n",
      "2025-07-03 15:41:43.212 \n",
      "  \u001b[33m\u001b[1mWarning:\u001b[0m to view this Streamlit app on a browser, run it with the following\n",
      "  command:\n",
      "\n",
      "    streamlit run c:\\Users\\elvin\\miniconda3\\envs\\env1\\Lib\\site-packages\\ipykernel_launcher.py [ARGUMENTS]\n",
      "2025-07-03 15:41:43.213 Thread 'MainThread': missing ScriptRunContext! This warning can be ignored when running in bare mode.\n"
     ]
    },
    {
     "data": {
      "text/plain": [
       "DeltaGenerator()"
      ]
     },
     "execution_count": 5,
     "metadata": {},
     "output_type": "execute_result"
    }
   ],
   "source": [
    "st.set_page_config(\n",
    "    page_title=\"Hello\",\n",
    "    page_icon=\"👋\",\n",
    ")\n",
    "st.title(\"Hello, Streamlit!\")"
   ]
  },
  {
   "cell_type": "code",
   "execution_count": 10,
   "id": "597830fa",
   "metadata": {},
   "outputs": [
    {
     "name": "stdout",
     "output_type": "stream",
     "text": [
      "None\n"
     ]
    }
   ],
   "source": [
    "from serpapi import GoogleSearch\n",
    "\n",
    "params = {\n",
    "  \"api_key\": os.getenv(\"SERPAPI_API_KEY\"),\n",
    "  \"engine\": \"google_scholar\",\n",
    "  \"q\": \"Coffee\",\n",
    "  \"hl\": \"en\"\n",
    "}\n",
    "print(os.getenv(\"SERPAPI_API_KEY\"))\n",
    "search = GoogleSearch(params)\n",
    "results = search.get_dict()"
   ]
  },
  {
   "cell_type": "code",
   "execution_count": 3,
   "id": "3ff114b3",
   "metadata": {},
   "outputs": [
    {
     "name": "stdout",
     "output_type": "stream",
     "text": [
      "{'search_metadata': {'id': '686649dca3f730b0d076dc84', 'status': 'Success', 'json_endpoint': 'https://serpapi.com/searches/27c731dcc93c8a53/686649dca3f730b0d076dc84.json', 'created_at': '2025-07-03 09:14:04 UTC', 'processed_at': '2025-07-03 09:14:04 UTC', 'google_scholar_url': 'https://scholar.google.com/scholar?q=Coffee&hl=en', 'raw_html_file': 'https://serpapi.com/searches/27c731dcc93c8a53/686649dca3f730b0d076dc84.html', 'total_time_taken': 1.54}, 'search_parameters': {'engine': 'google_scholar', 'q': 'Coffee', 'hl': 'en'}, 'search_information': {'organic_results_state': 'Results for exact spelling', 'total_results': 4470000, 'time_taken_displayed': 0.06, 'query_displayed': 'Coffee'}, 'organic_results': [{'position': 1, 'title': 'The impact of coffee on health', 'result_id': 'sWzmct-yYzgJ', 'link': 'https://www.sciencedirect.com/science/article/pii/S0378512213000479', 'snippet': '… , where pressed ground coffee beans are used directly, in either espresso or coffee pot so … espresso or coffee pots, where boiled water is directly passed through pressed coffee powder …', 'publication_info': {'summary': 'A Cano-Marquina, JJ Tarín, A Cano - Maturitas, 2013 - Elsevier', 'authors': [{'name': 'A Cano-Marquina', 'link': 'https://scholar.google.com/citations?user=nMS5yswAAAAJ&hl=en&oi=sra', 'serpapi_scholar_link': 'https://serpapi.com/search.json?author_id=nMS5yswAAAAJ&engine=google_scholar_author&hl=en', 'author_id': 'nMS5yswAAAAJ'}]}, 'inline_links': {'serpapi_cite_link': 'https://serpapi.com/search.json?engine=google_scholar_cite&hl=en&q=sWzmct-yYzgJ', 'cited_by': {'total': 540, 'link': 'https://scholar.google.com/scholar?cites=4063287961593474225&as_sdt=2005&sciodt=0,5&hl=en', 'cites_id': '4063287961593474225', 'serpapi_scholar_link': 'https://serpapi.com/search.json?as_sdt=2005&cites=4063287961593474225&engine=google_scholar&hl=en'}, 'related_pages_link': 'https://scholar.google.com/scholar?q=related:sWzmct-yYzgJ:scholar.google.com/&scioq=Coffee&hl=en&as_sdt=0,5', 'serpapi_related_pages_link': 'https://serpapi.com/search.json?as_sdt=0%2C5&engine=google_scholar&hl=en&q=related%3AsWzmct-yYzgJ%3Ascholar.google.com%2F', 'versions': {'total': 9, 'link': 'https://scholar.google.com/scholar?cluster=4063287961593474225&hl=en&as_sdt=0,5', 'cluster_id': '4063287961593474225', 'serpapi_scholar_link': 'https://serpapi.com/search.json?as_sdt=0%2C5&cluster=4063287961593474225&engine=google_scholar&hl=en'}}}, {'position': 2, 'title': 'The impact of coffee on health', 'result_id': 'KVT-hW9IrDoJ', 'link': 'https://www.thieme-connect.com/products/ejournals/html/10.1055/s-0043-115007', 'snippet': '… coffee, indicating that besides caffeine other components contribute to the health protecting effects. For adults consuming moderate amounts of coffee (… information about coffee on health…', 'publication_info': {'summary': 'K Nieber - Planta medica, 2017 - thieme-connect.com'}, 'resources': [{'title': 'thieme-connect.com', 'file_format': 'PDF', 'link': 'https://www.thieme-connect.com/products/ejournals/pdf/10.1055/s-0043-115007.pdf'}], 'inline_links': {'serpapi_cite_link': 'https://serpapi.com/search.json?engine=google_scholar_cite&hl=en&q=KVT-hW9IrDoJ', 'cited_by': {'total': 351, 'link': 'https://scholar.google.com/scholar?cites=4227833794020660265&as_sdt=2005&sciodt=0,5&hl=en', 'cites_id': '4227833794020660265', 'serpapi_scholar_link': 'https://serpapi.com/search.json?as_sdt=2005&cites=4227833794020660265&engine=google_scholar&hl=en'}, 'related_pages_link': 'https://scholar.google.com/scholar?q=related:KVT-hW9IrDoJ:scholar.google.com/&scioq=Coffee&hl=en&as_sdt=0,5', 'serpapi_related_pages_link': 'https://serpapi.com/search.json?as_sdt=0%2C5&engine=google_scholar&hl=en&q=related%3AKVT-hW9IrDoJ%3Ascholar.google.com%2F', 'versions': {'total': 7, 'link': 'https://scholar.google.com/scholar?cluster=4227833794020660265&hl=en&as_sdt=0,5', 'cluster_id': '4227833794020660265', 'serpapi_scholar_link': 'https://serpapi.com/search.json?as_sdt=0%2C5&cluster=4227833794020660265&engine=google_scholar&hl=en'}}}, {'position': 3, 'title': 'Functional properties of coffee and coffee by-products', 'result_id': '9WouRiFbIK4J', 'link': 'https://www.sciencedirect.com/science/article/pii/S0963996911003449', 'snippet': '… roasted coffee … coffee, coffee beans and by-products in terms of the associated potential health benefits. The data in this review have been organized in sections according to the coffee …', 'publication_info': {'summary': 'P Esquivel, VM Jimenez - Food research international, 2012 - Elsevier', 'authors': [{'name': 'P Esquivel', 'link': 'https://scholar.google.com/citations?user=EpwJXskAAAAJ&hl=en&oi=sra', 'serpapi_scholar_link': 'https://serpapi.com/search.json?author_id=EpwJXskAAAAJ&engine=google_scholar_author&hl=en', 'author_id': 'EpwJXskAAAAJ'}, {'name': 'VM Jimenez', 'link': 'https://scholar.google.com/citations?user=_P0h0B8AAAAJ&hl=en&oi=sra', 'serpapi_scholar_link': 'https://serpapi.com/search.json?author_id=_P0h0B8AAAAJ&engine=google_scholar_author&hl=en', 'author_id': '_P0h0B8AAAAJ'}]}, 'resources': [{'title': 'uoregon.edu', 'file_format': 'PDF', 'link': 'https://pages.uoregon.edu/chendon/coffee_literature/old_literature/2012%20Food%20Res.%20Int.,%20Uses%20for%20coffee%20waste.pdf'}], 'inline_links': {'serpapi_cite_link': 'https://serpapi.com/search.json?engine=google_scholar_cite&hl=en&q=9WouRiFbIK4J', 'cited_by': {'total': 1310, 'link': 'https://scholar.google.com/scholar?cites=12547128760323697397&as_sdt=2005&sciodt=0,5&hl=en', 'cites_id': '12547128760323697397', 'serpapi_scholar_link': 'https://serpapi.com/search.json?as_sdt=2005&cites=12547128760323697397&engine=google_scholar&hl=en'}, 'related_pages_link': 'https://scholar.google.com/scholar?q=related:9WouRiFbIK4J:scholar.google.com/&scioq=Coffee&hl=en&as_sdt=0,5', 'serpapi_related_pages_link': 'https://serpapi.com/search.json?as_sdt=0%2C5&engine=google_scholar&hl=en&q=related%3A9WouRiFbIK4J%3Ascholar.google.com%2F', 'versions': {'total': 7, 'link': 'https://scholar.google.com/scholar?cluster=12547128760323697397&hl=en&as_sdt=0,5', 'cluster_id': '12547128760323697397', 'serpapi_scholar_link': 'https://serpapi.com/search.json?as_sdt=0%2C5&cluster=12547128760323697397&engine=google_scholar&hl=en'}}}, {'position': 4, 'title': 'Components of coffee', 'result_id': 'QwF9cuvhnCoJ', 'type': 'Pdf', 'link': 'https://www.researchgate.net/profile/Maurice-Arnaud/publication/311253694_Metabolism_of_caffeine_and_other_components_of_coffee/links/58f1d0cfa6fdcc11e569e8e8/Metabolism-of-caffeine-and-other-components-of-coffee.pdf', 'snippet': 'The metabolism of coffee constituents such as trigonelline, chlorogenic acid with its two components, caffeic and quinic acids, are also presented. Other aromatic compounds present in …', 'publication_info': {'summary': 'MJ Arnaud - Caffeine, coffee, and health, 1993 - researchgate.net'}, 'resources': [{'title': 'researchgate.net', 'file_format': 'PDF', 'link': 'https://www.researchgate.net/profile/Maurice-Arnaud/publication/311253694_Metabolism_of_caffeine_and_other_components_of_coffee/links/58f1d0cfa6fdcc11e569e8e8/Metabolism-of-caffeine-and-other-components-of-coffee.pdf'}], 'inline_links': {'serpapi_cite_link': 'https://serpapi.com/search.json?engine=google_scholar_cite&hl=en&q=QwF9cuvhnCoJ', 'cited_by': {'total': 253, 'link': 'https://scholar.google.com/scholar?cites=3070577447314194755&as_sdt=2005&sciodt=0,5&hl=en', 'cites_id': '3070577447314194755', 'serpapi_scholar_link': 'https://serpapi.com/search.json?as_sdt=2005&cites=3070577447314194755&engine=google_scholar&hl=en'}, 'related_pages_link': 'https://scholar.google.com/scholar?q=related:QwF9cuvhnCoJ:scholar.google.com/&scioq=Coffee&hl=en&as_sdt=0,5', 'serpapi_related_pages_link': 'https://serpapi.com/search.json?as_sdt=0%2C5&engine=google_scholar&hl=en&q=related%3AQwF9cuvhnCoJ%3Ascholar.google.com%2F'}}, {'position': 5, 'title': 'Coffee and health', 'result_id': 'CS4lXzLu_JkJ', 'type': 'Html', 'link': 'https://www.sciencedirect.com/science/article/pii/S2213422014000456', 'snippet': '… It has been told that coffee is a driving force for … to drink coffee, which suggests individual variation to coffee intolerance. The aim of this review is to briefly summarize the effects of coffee …', 'publication_info': {'summary': 'JH Bae, JH Park, SS Im, DK Song - Integrative medicine research, 2014 - Elsevier', 'authors': [{'name': 'SS Im', 'link': 'https://scholar.google.com/citations?user=jfk9T2gAAAAJ&hl=en&oi=sra', 'serpapi_scholar_link': 'https://serpapi.com/search.json?author_id=jfk9T2gAAAAJ&engine=google_scholar_author&hl=en', 'author_id': 'jfk9T2gAAAAJ'}]}, 'resources': [{'title': 'sciencedirect.com', 'file_format': 'HTML', 'link': 'https://www.sciencedirect.com/science/article/pii/S2213422014000456'}], 'inline_links': {'serpapi_cite_link': 'https://serpapi.com/search.json?engine=google_scholar_cite&hl=en&q=CS4lXzLu_JkJ', 'html_version': 'https://www.sciencedirect.com/science/article/pii/S2213422014000456', 'cited_by': {'total': 214, 'link': 'https://scholar.google.com/scholar?cites=11096005482046107145&as_sdt=2005&sciodt=0,5&hl=en', 'cites_id': '11096005482046107145', 'serpapi_scholar_link': 'https://serpapi.com/search.json?as_sdt=2005&cites=11096005482046107145&engine=google_scholar&hl=en'}, 'related_pages_link': 'https://scholar.google.com/scholar?q=related:CS4lXzLu_JkJ:scholar.google.com/&scioq=Coffee&hl=en&as_sdt=0,5', 'serpapi_related_pages_link': 'https://serpapi.com/search.json?as_sdt=0%2C5&engine=google_scholar&hl=en&q=related%3ACS4lXzLu_JkJ%3Ascholar.google.com%2F', 'versions': {'total': 13, 'link': 'https://scholar.google.com/scholar?cluster=11096005482046107145&hl=en&as_sdt=0,5', 'cluster_id': '11096005482046107145', 'serpapi_scholar_link': 'https://serpapi.com/search.json?as_sdt=0%2C5&cluster=11096005482046107145&engine=google_scholar&hl=en'}}}, {'position': 6, 'title': 'Coffee', 'result_id': 'F6FR6YN9nBsJ', 'type': 'Book', 'link': 'https://link.springer.com/chapter/10.1007/978-3-030-24733-1_23', 'snippet': '… with coffee plants. Coffee crop management plays an important role in the settlement and maintenance of their populations. This chapter covers aspects related to the main coffee crop …', 'publication_info': {'summary': 'CF Carvalho, SM Carvalho, B Souza - 2019 - Springer', 'authors': [{'name': 'SM Carvalho', 'link': 'https://scholar.google.com/citations?user=70EjKtAAAAAJ&hl=en&oi=sra', 'serpapi_scholar_link': 'https://serpapi.com/search.json?author_id=70EjKtAAAAAJ&engine=google_scholar_author&hl=en', 'author_id': '70EjKtAAAAAJ'}, {'name': 'B Souza', 'link': 'https://scholar.google.com/citations?user=GFIwzIsAAAAJ&hl=en&oi=sra', 'serpapi_scholar_link': 'https://serpapi.com/search.json?author_id=GFIwzIsAAAAJ&engine=google_scholar_author&hl=en', 'author_id': 'GFIwzIsAAAAJ'}]}, 'inline_links': {'serpapi_cite_link': 'https://serpapi.com/search.json?engine=google_scholar_cite&hl=en&q=F6FR6YN9nBsJ', 'cited_by': {'total': 94, 'link': 'https://scholar.google.com/scholar?cites=1989603140899545367&as_sdt=2005&sciodt=0,5&hl=en', 'cites_id': '1989603140899545367', 'serpapi_scholar_link': 'https://serpapi.com/search.json?as_sdt=2005&cites=1989603140899545367&engine=google_scholar&hl=en'}, 'related_pages_link': 'https://scholar.google.com/scholar?q=related:F6FR6YN9nBsJ:scholar.google.com/&scioq=Coffee&hl=en&as_sdt=0,5', 'serpapi_related_pages_link': 'https://serpapi.com/search.json?as_sdt=0%2C5&engine=google_scholar&hl=en&q=related%3AF6FR6YN9nBsJ%3Ascholar.google.com%2F', 'versions': {'total': 2, 'link': 'https://scholar.google.com/scholar?cluster=1989603140899545367&hl=en&as_sdt=0,5', 'cluster_id': '1989603140899545367', 'serpapi_scholar_link': 'https://serpapi.com/search.json?as_sdt=0%2C5&cluster=1989603140899545367&engine=google_scholar&hl=en'}}}, {'position': 7, 'title': 'Coffee and health: a review of recent human research', 'result_id': 'fSVlrXX7dIUJ', 'link': 'https://www.tandfonline.com/doi/abs/10.1080/10408390500400009', 'snippet': '… coffee during brewing, but are mostly removed from coffee by … coffee, Turkish coffee, and French press (cafetiere) coffee … while filtered coffee, percolated coffee, and instant coffee contain …', 'publication_info': {'summary': 'JV Higdon, B Frei - Critical reviews in food science and nutrition, 2006 - Taylor & Francis', 'authors': [{'name': 'B Frei', 'link': 'https://scholar.google.com/citations?user=H_Fk05wAAAAJ&hl=en&oi=sra', 'serpapi_scholar_link': 'https://serpapi.com/search.json?author_id=H_Fk05wAAAAJ&engine=google_scholar_author&hl=en', 'author_id': 'H_Fk05wAAAAJ'}]}, 'resources': [{'title': 'tandfonline.com', 'file_format': 'PDF', 'link': 'https://www.tandfonline.com/doi/pdf/10.1080/10408390500400009'}], 'inline_links': {'serpapi_cite_link': 'https://serpapi.com/search.json?engine=google_scholar_cite&hl=en&q=fSVlrXX7dIUJ', 'cited_by': {'total': 1663, 'link': 'https://scholar.google.com/scholar?cites=9616587587181684093&as_sdt=2005&sciodt=0,5&hl=en', 'cites_id': '9616587587181684093', 'serpapi_scholar_link': 'https://serpapi.com/search.json?as_sdt=2005&cites=9616587587181684093&engine=google_scholar&hl=en'}, 'related_pages_link': 'https://scholar.google.com/scholar?q=related:fSVlrXX7dIUJ:scholar.google.com/&scioq=Coffee&hl=en&as_sdt=0,5', 'serpapi_related_pages_link': 'https://serpapi.com/search.json?as_sdt=0%2C5&engine=google_scholar&hl=en&q=related%3AfSVlrXX7dIUJ%3Ascholar.google.com%2F', 'versions': {'total': 18, 'link': 'https://scholar.google.com/scholar?cluster=9616587587181684093&hl=en&as_sdt=0,5', 'cluster_id': '9616587587181684093', 'serpapi_scholar_link': 'https://serpapi.com/search.json?as_sdt=0%2C5&cluster=9616587587181684093&engine=google_scholar&hl=en'}}}, {'position': 8, 'title': 'Coffee: recent developments', 'result_id': '31GOrHWBl_AJ', 'type': 'Book', 'link': 'https://books.google.com/books?hl=en&lr=&id=jIFY_Pz8LH0C&oi=fnd&pg=PR3&dq=Coffee&ots=ODJuWjitYH&sig=bdAymmj8AsylHSpL2USKXwNfaOQ', 'snippet': '… The physiological effects of coffee drinking are considered in a fascinating chapter on coffee and health. Agronomic aspects of coffee breeding and growing are covered specifically in …', 'publication_info': {'summary': 'R Clarke, OG Vitzthum - 2008 - books.google.com', 'authors': [{'name': 'R Clarke', 'link': 'https://scholar.google.com/citations?user=emScaM4AAAAJ&hl=en&oi=sra', 'serpapi_scholar_link': 'https://serpapi.com/search.json?author_id=emScaM4AAAAJ&engine=google_scholar_author&hl=en', 'author_id': 'emScaM4AAAAJ'}]}, 'inline_links': {'serpapi_cite_link': 'https://serpapi.com/search.json?engine=google_scholar_cite&hl=en&q=31GOrHWBl_AJ', 'cited_by': {'total': 341, 'link': 'https://scholar.google.com/scholar?cites=17336467632992178655&as_sdt=2005&sciodt=0,5&hl=en', 'cites_id': '17336467632992178655', 'serpapi_scholar_link': 'https://serpapi.com/search.json?as_sdt=2005&cites=17336467632992178655&engine=google_scholar&hl=en'}, 'related_pages_link': 'https://scholar.google.com/scholar?q=related:31GOrHWBl_AJ:scholar.google.com/&scioq=Coffee&hl=en&as_sdt=0,5', 'serpapi_related_pages_link': 'https://serpapi.com/search.json?as_sdt=0%2C5&engine=google_scholar&hl=en&q=related%3A31GOrHWBl_AJ%3Ascholar.google.com%2F', 'versions': {'total': 4, 'link': 'https://scholar.google.com/scholar?cluster=17336467632992178655&hl=en&as_sdt=0,5', 'cluster_id': '17336467632992178655', 'serpapi_scholar_link': 'https://serpapi.com/search.json?as_sdt=0%2C5&cluster=17336467632992178655&engine=google_scholar&hl=en'}}}, {'position': 9, 'title': 'Coffee constituents', 'result_id': 'xY3q9qnkN54J', 'link': 'https://books.google.com/books?hl=en&lr=&id=fL2lSAMfdwcC&oi=fnd&pg=PT47&dq=Coffee&ots=AH2VtwAJss&sig=D-LVIx58-QEZkWLdwknE_YfrsfU', 'snippet': '… Since the opening of the first coffee house in Mecca at the end of the fifteenth century, coffee consumption has greatly increased all around the world. In 2010, coffee production reached …', 'publication_info': {'summary': 'A Farah - Coffee: Emerging health effects and disease …, 2012 - books.google.com'}, 'resources': [{'title': 'uoregon.edu', 'file_format': 'PDF', 'link': 'https://pages.uoregon.edu/chendon/coffee_literature/old_literature/2012%20Coffee%20Emerging%20Health%20Effects%20and%20Disease%20Prevention,%20Coffee%20Constituents,%20Chapter%202.pdf'}], 'inline_links': {'serpapi_cite_link': 'https://serpapi.com/search.json?engine=google_scholar_cite&hl=en&q=xY3q9qnkN54J', 'cited_by': {'total': 606, 'link': 'https://scholar.google.com/scholar?cites=11400832400354872773&as_sdt=2005&sciodt=0,5&hl=en', 'cites_id': '11400832400354872773', 'serpapi_scholar_link': 'https://serpapi.com/search.json?as_sdt=2005&cites=11400832400354872773&engine=google_scholar&hl=en'}, 'related_pages_link': 'https://scholar.google.com/scholar?q=related:xY3q9qnkN54J:scholar.google.com/&scioq=Coffee&hl=en&as_sdt=0,5', 'serpapi_related_pages_link': 'https://serpapi.com/search.json?as_sdt=0%2C5&engine=google_scholar&hl=en&q=related%3AxY3q9qnkN54J%3Ascholar.google.com%2F', 'versions': {'total': 11, 'link': 'https://scholar.google.com/scholar?cluster=11400832400354872773&hl=en&as_sdt=0,5', 'cluster_id': '11400832400354872773', 'serpapi_scholar_link': 'https://serpapi.com/search.json?as_sdt=0%2C5&cluster=11400832400354872773&engine=google_scholar&hl=en'}}}, {'position': 10, 'title': 'Coffee: Volume 2: Technology', 'result_id': 'Jt15QwxlEw0J', 'type': 'Book', 'link': 'https://books.google.com/books?hl=en&lr=&id=NlcGCAAAQBAJ&oi=fnd&pg=PR5&dq=Coffee&ots=uez-sABbKm&sig=PPunRRg9xKaYdy8VEGZiCOd5SDg', 'snippet': '… The choice of green coffees from an almost … the coffee cherry to the green coffee bean, needs understanding and guidance. Furthermore, various forms of pre-treatment of green coffee …', 'publication_info': {'summary': 'RJ Clarke - 2012 - books.google.com'}, 'inline_links': {'serpapi_cite_link': 'https://serpapi.com/search.json?engine=google_scholar_cite&hl=en&q=Jt15QwxlEw0J', 'cited_by': {'total': 251, 'link': 'https://scholar.google.com/scholar?cites=942207850396638502&as_sdt=2005&sciodt=0,5&hl=en', 'cites_id': '942207850396638502', 'serpapi_scholar_link': 'https://serpapi.com/search.json?as_sdt=2005&cites=942207850396638502&engine=google_scholar&hl=en'}, 'related_pages_link': 'https://scholar.google.com/scholar?q=related:Jt15QwxlEw0J:scholar.google.com/&scioq=Coffee&hl=en&as_sdt=0,5', 'serpapi_related_pages_link': 'https://serpapi.com/search.json?as_sdt=0%2C5&engine=google_scholar&hl=en&q=related%3AJt15QwxlEw0J%3Ascholar.google.com%2F', 'versions': {'total': 2, 'link': 'https://scholar.google.com/scholar?cluster=942207850396638502&hl=en&as_sdt=0,5', 'cluster_id': '942207850396638502', 'serpapi_scholar_link': 'https://serpapi.com/search.json?as_sdt=0%2C5&cluster=942207850396638502&engine=google_scholar&hl=en'}}}], 'related_searches': [{'query': 'coffee shop', 'link': 'https://scholar.google.com/scholar?hl=en&as_sdt=0,5&qsp=1&q=coffee+shop&qst=ib'}, {'query': 'coffee consumption', 'link': 'https://scholar.google.com/scholar?hl=en&as_sdt=0,5&qsp=2&q=coffee+consumption&qst=ib'}, {'query': 'coffee grounds', 'link': 'https://scholar.google.com/scholar?hl=en&as_sdt=0,5&qsp=3&q=coffee+grounds&qst=ib'}, {'query': 'coffee beans', 'link': 'https://scholar.google.com/scholar?hl=en&as_sdt=0,5&qsp=4&q=coffee+beans&qst=ib'}, {'query': 'coffee caffeine', 'link': 'https://scholar.google.com/scholar?hl=en&as_sdt=0,5&qsp=5&q=coffee+caffeine&qst=ib'}, {'query': 'spent coffee', 'link': 'https://scholar.google.com/scholar?hl=en&as_sdt=0,5&qsp=6&q=spent+coffee&qst=ib'}, {'query': 'starbucks coffee', 'link': 'https://scholar.google.com/scholar?hl=en&as_sdt=0,5&qsp=7&q=starbucks+coffee&qst=ib'}, {'query': 'arabica coffee', 'link': 'https://scholar.google.com/scholar?hl=en&as_sdt=0,5&qsp=8&q=arabica+coffee&qst=ib'}], 'pagination': {'current': 1, 'next': 'https://scholar.google.com/scholar?start=10&q=Coffee&hl=en&as_sdt=0,5', 'other_pages': {'2': 'https://scholar.google.com/scholar?start=10&q=Coffee&hl=en&as_sdt=0,5', '3': 'https://scholar.google.com/scholar?start=20&q=Coffee&hl=en&as_sdt=0,5', '4': 'https://scholar.google.com/scholar?start=30&q=Coffee&hl=en&as_sdt=0,5', '5': 'https://scholar.google.com/scholar?start=40&q=Coffee&hl=en&as_sdt=0,5', '6': 'https://scholar.google.com/scholar?start=50&q=Coffee&hl=en&as_sdt=0,5', '7': 'https://scholar.google.com/scholar?start=60&q=Coffee&hl=en&as_sdt=0,5', '8': 'https://scholar.google.com/scholar?start=70&q=Coffee&hl=en&as_sdt=0,5', '9': 'https://scholar.google.com/scholar?start=80&q=Coffee&hl=en&as_sdt=0,5', '10': 'https://scholar.google.com/scholar?start=90&q=Coffee&hl=en&as_sdt=0,5'}}, 'serpapi_pagination': {'current': 1, 'next_link': 'https://serpapi.com/search.json?as_sdt=0%2C5&engine=google_scholar&hl=en&q=Coffee&start=10', 'next': 'https://serpapi.com/search.json?as_sdt=0%2C5&engine=google_scholar&hl=en&q=Coffee&start=10', 'other_pages': {'2': 'https://serpapi.com/search.json?as_sdt=0%2C5&engine=google_scholar&hl=en&q=Coffee&start=10', '3': 'https://serpapi.com/search.json?as_sdt=0%2C5&engine=google_scholar&hl=en&q=Coffee&start=20', '4': 'https://serpapi.com/search.json?as_sdt=0%2C5&engine=google_scholar&hl=en&q=Coffee&start=30', '5': 'https://serpapi.com/search.json?as_sdt=0%2C5&engine=google_scholar&hl=en&q=Coffee&start=40', '6': 'https://serpapi.com/search.json?as_sdt=0%2C5&engine=google_scholar&hl=en&q=Coffee&start=50', '7': 'https://serpapi.com/search.json?as_sdt=0%2C5&engine=google_scholar&hl=en&q=Coffee&start=60', '8': 'https://serpapi.com/search.json?as_sdt=0%2C5&engine=google_scholar&hl=en&q=Coffee&start=70', '9': 'https://serpapi.com/search.json?as_sdt=0%2C5&engine=google_scholar&hl=en&q=Coffee&start=80', '10': 'https://serpapi.com/search.json?as_sdt=0%2C5&engine=google_scholar&hl=en&q=Coffee&start=90'}}}\n"
     ]
    }
   ],
   "source": [
    "print(results)"
   ]
  },
  {
   "cell_type": "code",
   "execution_count": null,
   "id": "1285d265",
   "metadata": {},
   "outputs": [],
   "source": []
  }
 ],
 "metadata": {
  "kernelspec": {
   "display_name": "env1",
   "language": "python",
   "name": "python3"
  },
  "language_info": {
   "codemirror_mode": {
    "name": "ipython",
    "version": 3
   },
   "file_extension": ".py",
   "mimetype": "text/x-python",
   "name": "python",
   "nbconvert_exporter": "python",
   "pygments_lexer": "ipython3",
   "version": "3.11.11"
  }
 },
 "nbformat": 4,
 "nbformat_minor": 5
}
